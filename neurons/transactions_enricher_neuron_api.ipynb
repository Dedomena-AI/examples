{
 "cells": [
  {
   "cell_type": "code",
   "execution_count": 2,
   "id": "9282160d",
   "metadata": {
    "id": "9282160d"
   },
   "outputs": [],
   "source": [
    "# Import Python libraries\n",
    "import pandas as pd\n",
    "import requests"
   ]
  },
  {
   "cell_type": "code",
   "execution_count": 3,
   "id": "d271377b",
   "metadata": {
    "id": "d271377b"
   },
   "outputs": [],
   "source": [
    "# Read the data\n",
    "data_request = pd.read_csv(\"data/transaction_enricher_example_dataset.csv\", sep=\";\")"
   ]
  },
  {
   "cell_type": "code",
   "execution_count": 4,
   "id": "a1ce1f9c",
   "metadata": {
    "id": "a1ce1f9c"
   },
   "outputs": [],
   "source": [
    "# Optional: change columns names.\n",
    "data_request.columns = [\"transaction_id\", \"date\", \"desc\", \"amt\"]"
   ]
  },
  {
   "cell_type": "code",
   "execution_count": 5,
   "id": "6c1cc854",
   "metadata": {
    "colab": {
     "base_uri": "https://localhost:8080/",
     "height": 423
    },
    "executionInfo": {
     "elapsed": 7,
     "status": "ok",
     "timestamp": 1725635309621,
     "user": {
      "displayName": "Ariel Cruz",
      "userId": "15527768985545463278"
     },
     "user_tz": -120
    },
    "id": "6c1cc854",
    "outputId": "489720b8-ec9e-471e-f6c6-e7f5ee93e239",
    "scrolled": true
   },
   "outputs": [
    {
     "data": {
      "text/html": [
       "<div>\n",
       "<style scoped>\n",
       "    .dataframe tbody tr th:only-of-type {\n",
       "        vertical-align: middle;\n",
       "    }\n",
       "\n",
       "    .dataframe tbody tr th {\n",
       "        vertical-align: top;\n",
       "    }\n",
       "\n",
       "    .dataframe thead th {\n",
       "        text-align: right;\n",
       "    }\n",
       "</style>\n",
       "<table border=\"1\" class=\"dataframe\">\n",
       "  <thead>\n",
       "    <tr style=\"text-align: right;\">\n",
       "      <th></th>\n",
       "      <th>transaction_id</th>\n",
       "      <th>date</th>\n",
       "      <th>desc</th>\n",
       "      <th>amt</th>\n",
       "    </tr>\n",
       "  </thead>\n",
       "  <tbody>\n",
       "    <tr>\n",
       "      <th>0</th>\n",
       "      <td>id_1</td>\n",
       "      <td>2024-09-12 00:00:00.0</td>\n",
       "      <td>COMPRA aliexpress, Luxembourg, TARJETA 1234567...</td>\n",
       "      <td>-10.75</td>\n",
       "    </tr>\n",
       "    <tr>\n",
       "      <th>1</th>\n",
       "      <td>id_2</td>\n",
       "      <td>2024-09-20 00:00:00.0</td>\n",
       "      <td>PAGO MOVIL EN MERCADONA, MADRID, TARJ. :*123456</td>\n",
       "      <td>-30.63</td>\n",
       "    </tr>\n",
       "    <tr>\n",
       "      <th>2</th>\n",
       "      <td>id_3</td>\n",
       "      <td>2024-10-02 00:00:00.0</td>\n",
       "      <td>PAGO MOVIL EN METRO DE MADRID, MADRID, TARJ. :...</td>\n",
       "      <td>-2.40</td>\n",
       "    </tr>\n",
       "  </tbody>\n",
       "</table>\n",
       "</div>"
      ],
      "text/plain": [
       "  transaction_id                   date  \\\n",
       "0           id_1  2024-09-12 00:00:00.0   \n",
       "1           id_2  2024-09-20 00:00:00.0   \n",
       "2           id_3  2024-10-02 00:00:00.0   \n",
       "\n",
       "                                                desc    amt  \n",
       "0  COMPRA aliexpress, Luxembourg, TARJETA 1234567... -10.75  \n",
       "1    PAGO MOVIL EN MERCADONA, MADRID, TARJ. :*123456 -30.63  \n",
       "2  PAGO MOVIL EN METRO DE MADRID, MADRID, TARJ. :...  -2.40  "
      ]
     },
     "execution_count": 5,
     "metadata": {},
     "output_type": "execute_result"
    }
   ],
   "source": [
    "data_request"
   ]
  },
  {
   "cell_type": "code",
   "execution_count": 6,
   "id": "ywZNtUDtD1Os",
   "metadata": {
    "id": "ywZNtUDtD1Os"
   },
   "outputs": [],
   "source": [
    "# Change columns types\n",
    "data_request[\"transaction_id\"] = data_request[\"transaction_id\"].astype(str) # Optional: convert \"transaction_id\" column to string/object type\n",
    "data_request[\"amt\"] = data_request[\"amt\"].astype(str) # Optional: convert \"amt\" column to string/object type"
   ]
  },
  {
   "cell_type": "code",
   "execution_count": 7,
   "id": "3f4daedc",
   "metadata": {
    "id": "3f4daedc"
   },
   "outputs": [],
   "source": [
    "# Convert to JSON from Pandas dataframe\n",
    "data_json = data_request.to_json(orient='records')"
   ]
  },
  {
   "cell_type": "code",
   "execution_count": 8,
   "id": "8da83827",
   "metadata": {
    "colab": {
     "base_uri": "https://localhost:8080/",
     "height": 88
    },
    "executionInfo": {
     "elapsed": 5,
     "status": "ok",
     "timestamp": 1725635312760,
     "user": {
      "displayName": "Ariel Cruz",
      "userId": "15527768985545463278"
     },
     "user_tz": -120
    },
    "id": "8da83827",
    "outputId": "d752e11b-c03f-4eca-b316-eadfc2d5fc98"
   },
   "outputs": [
    {
     "data": {
      "text/plain": [
       "'[{\"transaction_id\":\"id_1\",\"date\":\"2024-09-12 00:00:00.0\",\"desc\":\"COMPRA aliexpress, Luxembourg, TARJETA 1234567812345678 , COMISION 0,00\",\"amt\":\"-10.75\"},{\"transaction_id\":\"id_2\",\"date\":\"2024-09-20 00:00:00.0\",\"desc\":\"PAGO MOVIL EN MERCADONA, MADRID, TARJ. :*123456\",\"amt\":\"-30.63\"},{\"transaction_id\":\"id_3\",\"date\":\"2024-10-02 00:00:00.0\",\"desc\":\"PAGO MOVIL EN METRO DE MADRID, MADRID, TARJ. :*123456\",\"amt\":\"-2.4\"}]'"
      ]
     },
     "execution_count": 8,
     "metadata": {},
     "output_type": "execute_result"
    }
   ],
   "source": [
    "data_json"
   ]
  },
  {
   "cell_type": "markdown",
   "id": "93166756",
   "metadata": {},
   "source": [
    "### Enricher Endpoint"
   ]
  },
  {
   "cell_type": "code",
   "execution_count": 9,
   "id": "5dd9c9d7",
   "metadata": {
    "colab": {
     "base_uri": "https://localhost:8080/"
    },
    "executionInfo": {
     "elapsed": 58175,
     "status": "ok",
     "timestamp": 1725635530438,
     "user": {
      "displayName": "Ariel Cruz",
      "userId": "15527768985545463278"
     },
     "user_tz": -120
    },
    "id": "5dd9c9d7",
    "outputId": "40cbea4d-bd5c-4da4-8c3c-f554e33bf70e"
   },
   "outputs": [
    {
     "name": "stdout",
     "output_type": "stream",
     "text": [
      "<Response [200]>\n"
     ]
    }
   ],
   "source": [
    "# Define the Payload and save the request in a response object\n",
    "payload = {\"region\": \"SPAIN\", \"token\": \"YOUR_TOKEN\"} ## Update with the token from API tab at Dedomena AI's platform.\n",
    "response = requests.post(url=\"https://api.enricher.dedomena.ai/v5/enricher\", params=payload, data=data_json)\n",
    "print(response)"
   ]
  },
  {
   "cell_type": "code",
   "execution_count": 10,
   "id": "U2iEaFTeXLPh",
   "metadata": {
    "colab": {
     "base_uri": "https://localhost:8080/",
     "height": 88
    },
    "executionInfo": {
     "elapsed": 307,
     "status": "ok",
     "timestamp": 1725635532684,
     "user": {
      "displayName": "Ariel Cruz",
      "userId": "15527768985545463278"
     },
     "user_tz": -120
    },
    "id": "U2iEaFTeXLPh",
    "outputId": "af7deec0-2965-494e-abc1-55b4596ec247"
   },
   "outputs": [
    {
     "data": {
      "text/plain": [
       "'[{\"transaction_id\":\"id_1\",\"pred_category\":\"105\",\"pred_category_name\":\"eCommerce\",\"pred_prob\":1.0,\"pred_category_parent\":\"101\",\"pred_category_parent_name\":\"Purchases\"},{\"transaction_id\":\"id_2\",\"pred_category\":\"3\",\"pred_category_name\":\"Supermarket and Groceries\",\"pred_prob\":1.0,\"pred_category_parent\":\"1\",\"pred_category_parent_name\":\"Food, Dining\"},{\"transaction_id\":\"id_3\",\"pred_category\":\"26\",\"pred_category_name\":\"Public transportation\",\"pred_prob\":0.9876,\"pred_category_parent\":\"21\",\"pred_category_parent_name\":\"Transportation\"}]'"
      ]
     },
     "execution_count": 10,
     "metadata": {},
     "output_type": "execute_result"
    }
   ],
   "source": [
    "response.text"
   ]
  },
  {
   "cell_type": "code",
   "execution_count": 11,
   "id": "813109be",
   "metadata": {
    "id": "813109be"
   },
   "outputs": [],
   "source": [
    "# Transform to Pandas dataframe the request response\n",
    "enrichement = pd.DataFrame(response.json(), columns=[\"transaction_id\",\"pred_category\",\"pred_category_name\", \"pred_prob\",\"pred_category_parent\",\"pred_category_parent_name\"])"
   ]
  },
  {
   "cell_type": "code",
   "execution_count": 12,
   "id": "b3ce31ca",
   "metadata": {
    "colab": {
     "base_uri": "https://localhost:8080/",
     "height": 423
    },
    "executionInfo": {
     "elapsed": 6,
     "status": "ok",
     "timestamp": 1725543954752,
     "user": {
      "displayName": "Ariel Cruz",
      "userId": "15527768985545463278"
     },
     "user_tz": -120
    },
    "id": "b3ce31ca",
    "outputId": "09dc16f2-f0bb-4f0e-c219-1a038228e50d"
   },
   "outputs": [
    {
     "data": {
      "text/html": [
       "<div>\n",
       "<style scoped>\n",
       "    .dataframe tbody tr th:only-of-type {\n",
       "        vertical-align: middle;\n",
       "    }\n",
       "\n",
       "    .dataframe tbody tr th {\n",
       "        vertical-align: top;\n",
       "    }\n",
       "\n",
       "    .dataframe thead th {\n",
       "        text-align: right;\n",
       "    }\n",
       "</style>\n",
       "<table border=\"1\" class=\"dataframe\">\n",
       "  <thead>\n",
       "    <tr style=\"text-align: right;\">\n",
       "      <th></th>\n",
       "      <th>transaction_id</th>\n",
       "      <th>pred_category</th>\n",
       "      <th>pred_category_name</th>\n",
       "      <th>pred_prob</th>\n",
       "      <th>pred_category_parent</th>\n",
       "      <th>pred_category_parent_name</th>\n",
       "    </tr>\n",
       "  </thead>\n",
       "  <tbody>\n",
       "    <tr>\n",
       "      <th>0</th>\n",
       "      <td>id_1</td>\n",
       "      <td>105</td>\n",
       "      <td>eCommerce</td>\n",
       "      <td>1.0000</td>\n",
       "      <td>101</td>\n",
       "      <td>Purchases</td>\n",
       "    </tr>\n",
       "    <tr>\n",
       "      <th>1</th>\n",
       "      <td>id_2</td>\n",
       "      <td>3</td>\n",
       "      <td>Supermarket and Groceries</td>\n",
       "      <td>1.0000</td>\n",
       "      <td>1</td>\n",
       "      <td>Food, Dining</td>\n",
       "    </tr>\n",
       "    <tr>\n",
       "      <th>2</th>\n",
       "      <td>id_3</td>\n",
       "      <td>26</td>\n",
       "      <td>Public transportation</td>\n",
       "      <td>0.9876</td>\n",
       "      <td>21</td>\n",
       "      <td>Transportation</td>\n",
       "    </tr>\n",
       "  </tbody>\n",
       "</table>\n",
       "</div>"
      ],
      "text/plain": [
       "  transaction_id pred_category         pred_category_name  pred_prob  \\\n",
       "0           id_1           105                  eCommerce     1.0000   \n",
       "1           id_2             3  Supermarket and Groceries     1.0000   \n",
       "2           id_3            26      Public transportation     0.9876   \n",
       "\n",
       "  pred_category_parent pred_category_parent_name  \n",
       "0                  101                 Purchases  \n",
       "1                    1              Food, Dining  \n",
       "2                   21            Transportation  "
      ]
     },
     "execution_count": 12,
     "metadata": {},
     "output_type": "execute_result"
    }
   ],
   "source": [
    "# Check the results\n",
    "enrichement"
   ]
  },
  {
   "cell_type": "markdown",
   "id": "1d8f9d81",
   "metadata": {},
   "source": [
    "### Merchant Endpoint"
   ]
  },
  {
   "cell_type": "code",
   "execution_count": null,
   "id": "95826c07",
   "metadata": {
    "colab": {
     "base_uri": "https://localhost:8080/"
    },
    "executionInfo": {
     "elapsed": 3461,
     "status": "ok",
     "timestamp": 1725543981405,
     "user": {
      "displayName": "Ariel Cruz",
      "userId": "15527768985545463278"
     },
     "user_tz": -120
    },
    "id": "j5feZ84eFEaj",
    "outputId": "759e0c73-6e54-4c5f-d716-ad561b13855d"
   },
   "outputs": [],
   "source": [
    "payload = {\"region\": \"SPAIN\", \"token\": \"YOUR_TOKEN\"} ## Update with the token from API tab at Dedomena AI's platform.\n",
    "response2 = requests.post(url=\"https://api.enricher.dedomena.ai/v2/merchant\", params=payload, data=data_json)\n",
    "print(response)"
   ]
  },
  {
   "cell_type": "code",
   "execution_count": null,
   "id": "866f0aee",
   "metadata": {
    "colab": {
     "base_uri": "https://localhost:8080/",
     "height": 157
    },
    "executionInfo": {
     "elapsed": 6,
     "status": "ok",
     "timestamp": 1725543987675,
     "user": {
      "displayName": "Ariel Cruz",
      "userId": "15527768985545463278"
     },
     "user_tz": -120
    },
    "id": "YurmLiVFb6kx",
    "outputId": "facaa561-791b-4791-a4d8-29741d1e4d71"
   },
   "outputs": [],
   "source": [
    "response2.text"
   ]
  },
  {
   "cell_type": "code",
   "execution_count": null,
   "id": "5b48496f",
   "metadata": {
    "id": "j_gk233QbFsv"
   },
   "outputs": [],
   "source": [
    "# Transform to Pandas dataframe the request response\n",
    "merchant = pd.DataFrame(response2.json(), columns=[\"transaction_id\",\"merchant\"])"
   ]
  },
  {
   "cell_type": "code",
   "execution_count": null,
   "id": "54841c5b",
   "metadata": {},
   "outputs": [],
   "source": [
    "# Check the results\n",
    "merchant"
   ]
  }
 ],
 "metadata": {
  "colab": {
   "provenance": []
  },
  "kernelspec": {
   "display_name": "Python 3 (ipykernel)",
   "language": "python",
   "name": "python3"
  },
  "language_info": {
   "codemirror_mode": {
    "name": "ipython",
    "version": 3
   },
   "file_extension": ".py",
   "mimetype": "text/x-python",
   "name": "python",
   "nbconvert_exporter": "python",
   "pygments_lexer": "ipython3",
   "version": "3.9.13"
  }
 },
 "nbformat": 4,
 "nbformat_minor": 5
}
