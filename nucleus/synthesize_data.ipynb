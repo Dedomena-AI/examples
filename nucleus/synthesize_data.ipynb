{
 "cells": [
  {
   "cell_type": "markdown",
   "id": "07a32de9",
   "metadata": {},
   "source": [
    "# Generate high-quality synthetic data with Dedomena AI"
   ]
  },
  {
   "cell_type": "markdown",
   "id": "7eea8c52",
   "metadata": {
    "id": "7eea8c52"
   },
   "source": [
    "### Install Nucleus Edge library"
   ]
  },
  {
   "cell_type": "markdown",
   "id": "35836778",
   "metadata": {},
   "source": [
    "Nucleus allows to train synthesizers that are later on used to generate unlimited production-like copies of synthetic data. These synthesizers can be created in Dedomena´s platform (Cloud) or in the data source environment or other on-premise and private cloud enviroments, through the Nucleus Edge component."
   ]
  },
  {
   "cell_type": "code",
   "execution_count": null,
   "id": "64ada706",
   "metadata": {
    "colab": {
     "base_uri": "https://localhost:8080/",
     "height": 1000
    },
    "id": "682f5522",
    "outputId": "373bb0f2-d2ae-4f09-a5e0-42d8667d2f80"
   },
   "outputs": [],
   "source": [
    "!pip install /content/nucleus-edge-3.2.1-python-310-x86_64-linux-gnu.tar.gz"
   ]
  },
  {
   "cell_type": "markdown",
   "id": "4f79d306",
   "metadata": {
    "id": "4f79d306"
   },
   "source": [
    "# Synthetic data algorithms examples"
   ]
  },
  {
   "cell_type": "markdown",
   "id": "bbb9941c",
   "metadata": {},
   "source": [
    "Dedomena offers 4 synthesization algorithms:\n",
    "\n",
    "**Generic:** Learn from structured tabular data from any industry where recurrent patterns or other complex date based patterns are not the main characteristic that must keep the synthetic data. This algorithm provides the ability to fine-tune pre-trained synthesizers.\n",
    "\n",
    "**Transactional:** Learn from event/transaction based data (irregular time series or not a constant timestamp interval between events or transactions). This algorithm was intended to be used for transactional datasets, therefore there are certain essential columns for it to work correctly. It brings extra parameters only for bank transactional data, as a special type of transactional data, getting superior performance generating bank transactions with text descriptions, amog other capabilities.\n",
    "\n",
    "**Timeseries:** As the name suggests, it is used to learn from data that follows a time series structure with equally distanced timestamps. Variables like user/product id and date of the series are mandatory to guarantee excellent global and entity-type results. It’s flexible enough to learn monthly, weekly, daily or hourly time series. Other variables related with the event/transaction can be learned too.\n",
    "\n",
    "**Relational:** The relational algorithm is designed to synthesize multi-table datasets. They must adhere to the following conditions:\n",
    "\n",
    "- All tables should be connected in some way. Disconnected tables can be synthesized separately.\n",
    "- There should be no missing references (also known as orphan rows). If table A references table B, then every reference must be found. Otherwise, the row will be removed and not generated. It's okay if a parent row doesn't have children.\n",
    "- There cannot be cyclic references. A table cannot reference itself. Or if table A references table B, then table B cannot reference table A again.\n",
    "- Every foreign key must be a primary key of the table it references.\n",
    "\n",
    "Below you will find examples of how to train each type of algorithm using Nucleus Edge."
   ]
  },
  {
   "cell_type": "markdown",
   "id": "dmtT6Y7fQReC",
   "metadata": {
    "id": "dmtT6Y7fQReC"
   },
   "source": [
    "## Generic"
   ]
  },
  {
   "cell_type": "code",
   "execution_count": null,
   "id": "461ab25b",
   "metadata": {
    "colab": {
     "base_uri": "https://localhost:8080/"
    },
    "id": "461ab25b",
    "outputId": "35c10465-a7f4-4abd-a5b1-3f4c393c6f50"
   },
   "outputs": [
    {
     "name": "stderr",
     "output_type": "stream",
     "text": [
      "INFO:root:Initializing generic algorithm\n"
     ]
    },
    {
     "name": "stdout",
     "output_type": "stream",
     "text": [
      "\n",
      "    ███╗   ██╗██╗   ██╗ ██████╗██╗     ███████╗██╗   ██╗███████╗    ███████╗██████╗  ██████╗ ███████╗\n",
      "    ████╗  ██║██║   ██║██╔════╝██║     ██╔════╝██║   ██║██╔════╝    ██╔════╝██╔══██╗██╔════╝ ██╔════╝\n",
      "    ██╔██╗ ██║██║   ██║██║     ██║     █████╗  ██║   ██║███████╗    █████╗  ██║  ██║██║  ███╗█████╗  \n",
      "    ██║╚██╗██║██║   ██║██║     ██║     ██╔══╝  ██║   ██║╚════██║    ██╔══╝  ██║  ██║██║   ██║██╔══╝  \n",
      "    ██║ ╚████║╚██████╔╝╚██████╗███████╗███████╗╚██████╔╝███████║    ███████╗██████╔╝╚██████╔╝███████╗\n",
      "    ╚═╝  ╚═══╝ ╚═════╝  ╚═════╝╚══════╝╚══════╝ ╚═════╝ ╚══════╝    ╚══════╝╚═════╝  ╚═════╝ ╚══════╝  Version: 3.2.1                                                  \n",
      "                    \n"
     ]
    },
    {
     "name": "stderr",
     "output_type": "stream",
     "text": [
      "INFO:root:Final data structure:\n",
      "INFO:root:- Categorical columns: ['MonthlyCharges', 'MaritalStatus', 'Contract', 'Gender', 'PaymentMethod', 'InternetService']\n",
      "INFO:root:- Boolean columns: ['FixedLine', 'OnlineSecurity', 'OnlineBackup', 'DeviceProtection', 'TechSupport', 'StreamingTV', 'StreamingMovies', 'PaperlessBilling', 'Churn']\n",
      "INFO:root:- Date columns: []\n",
      "INFO:root:- Integer columns: ['MonthAge']\n",
      "INFO:root:- Float columns: ['TotalCharges']\n",
      "INFO:root:Starting data transformation\n",
      "INFO:root:* Missing values imputed\n",
      "INFO:root:Starting training\n"
     ]
    },
    {
     "name": "stdout",
     "output_type": "stream",
     "text": [
      "\n",
      "Final data structure:\n",
      "- Categorical columns:  ['MonthlyCharges', 'MaritalStatus', 'Contract', 'Gender', 'PaymentMethod', 'InternetService']\n",
      "- Boolean columns:  ['FixedLine', 'OnlineSecurity', 'OnlineBackup', 'DeviceProtection', 'TechSupport', 'StreamingTV', 'StreamingMovies', 'PaperlessBilling', 'Churn']\n",
      "- Date columns:  []\n",
      "- Integer columns:  ['MonthAge']\n",
      "- Float columns:  ['TotalCharges']\n",
      "\n",
      "Starting data transformation\n",
      "* Missing values imputed\n",
      "\n",
      "Starting training\n",
      "2024-10-14 13:52:30.241547\n"
     ]
    },
    {
     "name": "stderr",
     "output_type": "stream",
     "text": [
      "  0%|          | 0/150 [00:00<?, ?it/s]INFO:root:Epoch 1 - 2024-10-14 13:52:31.982621\n",
      "  1%|          | 1/150 [00:00<00:21,  6.86it/s]INFO:root:Epoch 2 - 2024-10-14 13:52:32.092426\n",
      "  1%|▏         | 2/150 [00:00<00:18,  8.06it/s]INFO:root:Epoch 3 - 2024-10-14 13:52:32.188588\n",
      "INFO:root:Epoch 4 - 2024-10-14 13:52:32.277242\n",
      "  3%|▎         | 4/150 [00:00<00:15,  9.62it/s]INFO:root:Epoch 5 - 2024-10-14 13:52:32.378399\n",
      "  3%|▎         | 5/150 [00:00<00:14,  9.68it/s]INFO:root:Epoch 6 - 2024-10-14 13:52:32.469938\n",
      "INFO:root:Epoch 7 - 2024-10-14 13:52:32.568650\n",
      "  5%|▍         | 7/150 [00:00<00:14, 10.07it/s]INFO:root:Epoch 8 - 2024-10-14 13:52:32.669655\n",
      "  5%|▌         | 8/150 [00:00<00:14, 10.03it/s]INFO:root:Epoch 9 - 2024-10-14 13:52:32.764918\n",
      "INFO:root:Epoch 10 - 2024-10-14 13:52:32.911242\n",
      "  7%|▋         | 10/150 [00:01<00:15,  9.20it/s]INFO:root:Epoch 11 - 2024-10-14 13:52:33.053208\n",
      "  7%|▋         | 11/150 [00:01<00:16,  8.60it/s]INFO:root:Epoch 12 - 2024-10-14 13:52:33.193716\n",
      "  8%|▊         | 12/150 [00:01<00:16,  8.15it/s]INFO:root:Epoch 13 - 2024-10-14 13:52:33.328340\n",
      "  9%|▊         | 13/150 [00:01<00:17,  7.97it/s]INFO:root:Epoch 14 - 2024-10-14 13:52:33.461984\n",
      "  9%|▉         | 14/150 [00:01<00:17,  7.80it/s]INFO:root:Epoch 15 - 2024-10-14 13:52:33.599031\n",
      " 10%|█         | 15/150 [00:01<00:17,  7.69it/s]INFO:root:Epoch 16 - 2024-10-14 13:52:33.732773\n",
      " 11%|█         | 16/150 [00:01<00:17,  7.61it/s]INFO:root:Epoch 17 - 2024-10-14 13:52:33.898750\n",
      " 11%|█▏        | 17/150 [00:02<00:18,  7.09it/s]INFO:root:Epoch 18 - 2024-10-14 13:52:34.048673\n",
      " 12%|█▏        | 18/150 [00:02<00:19,  6.92it/s]INFO:root:Epoch 19 - 2024-10-14 13:52:34.188997\n",
      " 13%|█▎        | 19/150 [00:02<00:18,  6.97it/s]INFO:root:Epoch 20 - 2024-10-14 13:52:34.333402\n",
      " 13%|█▎        | 20/150 [00:02<00:18,  7.00it/s]INFO:root:Epoch 21 - 2024-10-14 13:52:34.466337\n",
      " 14%|█▍        | 21/150 [00:02<00:18,  7.15it/s]INFO:root:Epoch 22 - 2024-10-14 13:52:34.606034\n",
      " 15%|█▍        | 22/150 [00:02<00:17,  7.15it/s]INFO:root:Epoch 23 - 2024-10-14 13:52:34.749854\n",
      " 15%|█▌        | 23/150 [00:02<00:17,  7.08it/s]INFO:root:Epoch 24 - 2024-10-14 13:52:34.902154\n",
      " 16%|█▌        | 24/150 [00:03<00:18,  6.93it/s]INFO:root:Epoch 25 - 2024-10-14 13:52:35.041183\n",
      " 17%|█▋        | 25/150 [00:03<00:17,  6.99it/s]INFO:root:Epoch 26 - 2024-10-14 13:52:35.205600\n",
      " 17%|█▋        | 26/150 [00:03<00:18,  6.69it/s]INFO:root:Epoch 27 - 2024-10-14 13:52:35.347054\n",
      " 18%|█▊        | 27/150 [00:03<00:18,  6.82it/s]INFO:root:Epoch 28 - 2024-10-14 13:52:35.502730\n",
      " 19%|█▊        | 28/150 [00:03<00:18,  6.68it/s]INFO:root:Epoch 29 - 2024-10-14 13:52:35.671758\n",
      " 19%|█▉        | 29/150 [00:03<00:18,  6.44it/s]INFO:root:Epoch 30 - 2024-10-14 13:52:35.832176\n",
      " 20%|██        | 30/150 [00:03<00:18,  6.36it/s]INFO:root:Epoch 31 - 2024-10-14 13:52:36.004705\n",
      " 21%|██        | 31/150 [00:04<00:19,  6.19it/s]INFO:root:Epoch 32 - 2024-10-14 13:52:36.188403\n",
      " 21%|██▏       | 32/150 [00:04<00:19,  5.94it/s]INFO:root:Epoch 33 - 2024-10-14 13:52:36.335199\n",
      " 22%|██▏       | 33/150 [00:04<00:18,  6.18it/s]INFO:root:Epoch 34 - 2024-10-14 13:52:36.489499\n",
      " 23%|██▎       | 34/150 [00:04<00:18,  6.27it/s]INFO:root:Epoch 35 - 2024-10-14 13:52:36.632789\n",
      " 23%|██▎       | 35/150 [00:04<00:17,  6.48it/s]INFO:root:Epoch 36 - 2024-10-14 13:52:36.767718\n",
      " 24%|██▍       | 36/150 [00:04<00:16,  6.73it/s]INFO:root:Epoch 37 - 2024-10-14 13:52:36.905790\n",
      " 25%|██▍       | 37/150 [00:05<00:16,  6.88it/s]INFO:root:Epoch 38 - 2024-10-14 13:52:37.046031\n",
      " 25%|██▌       | 38/150 [00:05<00:16,  6.95it/s]INFO:root:Epoch 39 - 2024-10-14 13:52:37.207535\n",
      " 26%|██▌       | 39/150 [00:05<00:16,  6.70it/s]INFO:root:Epoch 40 - 2024-10-14 13:52:37.333931\n",
      " 27%|██▋       | 40/150 [00:05<00:15,  7.04it/s]INFO:root:Epoch 41 - 2024-10-14 13:52:37.428769\n",
      "INFO:root:Epoch 42 - 2024-10-14 13:52:37.529081\n",
      " 28%|██▊       | 42/150 [00:05<00:13,  8.23it/s]INFO:root:Epoch 43 - 2024-10-14 13:52:37.640143\n",
      " 29%|██▊       | 43/150 [00:05<00:12,  8.40it/s]INFO:root:Epoch 44 - 2024-10-14 13:52:37.742111\n",
      " 29%|██▉       | 44/150 [00:05<00:12,  8.73it/s]INFO:root:Epoch 45 - 2024-10-14 13:52:37.871342\n",
      " 30%|███       | 45/150 [00:06<00:12,  8.42it/s]INFO:root:Epoch 46 - 2024-10-14 13:52:37.976127\n",
      " 31%|███       | 46/150 [00:06<00:11,  8.71it/s]INFO:root:Epoch 47 - 2024-10-14 13:52:38.079451\n",
      " 31%|███▏      | 47/150 [00:06<00:11,  8.99it/s]INFO:root:Epoch 48 - 2024-10-14 13:52:38.197972\n",
      " 32%|███▏      | 48/150 [00:06<00:11,  8.79it/s]INFO:root:Epoch 49 - 2024-10-14 13:52:38.312192\n",
      " 33%|███▎      | 49/150 [00:06<00:11,  8.81it/s]INFO:root:Epoch 50 - 2024-10-14 13:52:38.417803\n",
      " 33%|███▎      | 50/150 [00:06<00:11,  8.99it/s]INFO:root:Epoch 51 - 2024-10-14 13:52:38.522603\n",
      " 34%|███▍      | 51/150 [00:06<00:10,  9.11it/s]INFO:root:Epoch 52 - 2024-10-14 13:52:38.633577\n",
      " 35%|███▍      | 52/150 [00:06<00:10,  9.09it/s]INFO:root:Epoch 53 - 2024-10-14 13:52:38.737166\n",
      " 35%|███▌      | 53/150 [00:06<00:10,  9.26it/s]INFO:root:Epoch 54 - 2024-10-14 13:52:38.867818\n",
      " 36%|███▌      | 54/150 [00:07<00:10,  8.73it/s]INFO:root:Epoch 55 - 2024-10-14 13:52:38.972913\n",
      " 37%|███▋      | 55/150 [00:07<00:10,  8.95it/s]INFO:root:Epoch 56 - 2024-10-14 13:52:39.082760\n",
      " 37%|███▋      | 56/150 [00:07<00:10,  9.00it/s]INFO:root:Epoch 57 - 2024-10-14 13:52:39.190318\n",
      " 38%|███▊      | 57/150 [00:07<00:10,  9.06it/s]INFO:root:Epoch 58 - 2024-10-14 13:52:39.311825\n",
      " 39%|███▊      | 58/150 [00:07<00:10,  8.80it/s]INFO:root:Epoch 59 - 2024-10-14 13:52:39.416926\n",
      " 39%|███▉      | 59/150 [00:07<00:10,  9.00it/s]INFO:root:Epoch 60 - 2024-10-14 13:52:39.520516\n",
      " 40%|████      | 60/150 [00:07<00:09,  9.19it/s]INFO:root:Epoch 61 - 2024-10-14 13:52:39.620690\n",
      "INFO:root:Epoch 62 - 2024-10-14 13:52:39.713510\n",
      " 41%|████▏     | 62/150 [00:07<00:09,  9.72it/s]INFO:root:Epoch 63 - 2024-10-14 13:52:39.832925\n",
      " 42%|████▏     | 63/150 [00:07<00:09,  9.33it/s]INFO:root:Epoch 64 - 2024-10-14 13:52:39.931922\n",
      "INFO:root:Epoch 65 - 2024-10-14 13:52:40.029339\n",
      " 43%|████▎     | 65/150 [00:08<00:08,  9.68it/s]INFO:root:Epoch 66 - 2024-10-14 13:52:40.123293\n",
      "INFO:root:Epoch 67 - 2024-10-14 13:52:40.211133\n",
      " 45%|████▍     | 67/150 [00:08<00:08, 10.13it/s]INFO:root:Epoch 68 - 2024-10-14 13:52:40.319708\n",
      " 45%|████▌     | 68/150 [00:08<00:08,  9.91it/s]INFO:root:Epoch 69 - 2024-10-14 13:52:40.412398\n",
      "INFO:root:Epoch 70 - 2024-10-14 13:52:40.503854\n",
      " 47%|████▋     | 70/150 [00:08<00:07, 10.25it/s]INFO:root:Epoch 71 - 2024-10-14 13:52:40.595024\n",
      "INFO:root:Epoch 72 - 2024-10-14 13:52:40.693749\n",
      " 48%|████▊     | 72/150 [00:08<00:07, 10.34it/s]INFO:root:Epoch 73 - 2024-10-14 13:52:40.802589\n",
      "INFO:root:Epoch 74 - 2024-10-14 13:52:40.898662\n",
      " 49%|████▉     | 74/150 [00:09<00:07, 10.14it/s]INFO:root:Epoch 75 - 2024-10-14 13:52:40.994109\n",
      "INFO:root:Epoch 76 - 2024-10-14 13:52:41.081973\n",
      " 51%|█████     | 76/150 [00:09<00:07, 10.39it/s]INFO:root:Epoch 77 - 2024-10-14 13:52:41.175693\n",
      "INFO:root:Epoch 78 - 2024-10-14 13:52:41.275285\n",
      " 52%|█████▏    | 78/150 [00:09<00:06, 10.36it/s]INFO:root:Epoch 79 - 2024-10-14 13:52:41.379471\n",
      "INFO:root:Epoch 80 - 2024-10-14 13:52:41.478403\n",
      " 53%|█████▎    | 80/150 [00:09<00:06, 10.18it/s]INFO:root:Epoch 81 - 2024-10-14 13:52:41.573290\n",
      "INFO:root:Epoch 82 - 2024-10-14 13:52:41.678882\n",
      " 55%|█████▍    | 82/150 [00:09<00:06, 10.13it/s]INFO:root:Epoch 83 - 2024-10-14 13:52:41.789115\n",
      "INFO:root:Epoch 84 - 2024-10-14 13:52:41.896223\n",
      " 56%|█████▌    | 84/150 [00:10<00:06,  9.83it/s]INFO:root:Epoch 85 - 2024-10-14 13:52:41.998476\n",
      " 57%|█████▋    | 85/150 [00:10<00:06,  9.83it/s]INFO:root:Epoch 86 - 2024-10-14 13:52:42.104658\n",
      " 57%|█████▋    | 86/150 [00:10<00:06,  9.74it/s]INFO:root:Epoch 87 - 2024-10-14 13:52:42.212680\n",
      " 58%|█████▊    | 87/150 [00:10<00:06,  9.60it/s]INFO:root:Epoch 88 - 2024-10-14 13:52:42.324896\n",
      " 59%|█████▊    | 88/150 [00:10<00:06,  9.43it/s]INFO:root:Epoch 89 - 2024-10-14 13:52:42.438992\n",
      " 59%|█████▉    | 89/150 [00:10<00:06,  9.25it/s]INFO:root:Epoch 90 - 2024-10-14 13:52:42.543922\n",
      " 60%|██████    | 90/150 [00:10<00:06,  9.33it/s]INFO:root:Epoch 91 - 2024-10-14 13:52:42.656206\n",
      " 61%|██████    | 91/150 [00:10<00:06,  9.18it/s]INFO:root:Epoch 92 - 2024-10-14 13:52:42.767872\n",
      " 61%|██████▏   | 92/150 [00:10<00:06,  9.13it/s]INFO:root:Epoch 93 - 2024-10-14 13:52:42.896859\n",
      " 62%|██████▏   | 93/150 [00:11<00:06,  8.72it/s]INFO:root:Epoch 94 - 2024-10-14 13:52:43.004417\n",
      " 63%|██████▎   | 94/150 [00:11<00:06,  8.86it/s]INFO:root:Epoch 95 - 2024-10-14 13:52:43.106558\n",
      " 63%|██████▎   | 95/150 [00:11<00:06,  9.13it/s]INFO:root:Epoch 96 - 2024-10-14 13:52:43.211885\n",
      " 64%|██████▍   | 96/150 [00:11<00:05,  9.24it/s]INFO:root:Epoch 97 - 2024-10-14 13:52:43.315416\n",
      " 65%|██████▍   | 97/150 [00:11<00:05,  9.36it/s]INFO:root:Epoch 98 - 2024-10-14 13:52:43.437944\n",
      " 65%|██████▌   | 98/150 [00:11<00:05,  8.95it/s]INFO:root:Epoch 99 - 2024-10-14 13:52:43.542199\n",
      " 66%|██████▌   | 99/150 [00:11<00:05,  9.15it/s]INFO:root:Epoch 100 - 2024-10-14 13:52:43.652272\n",
      " 67%|██████▋   | 100/150 [00:11<00:05,  9.10it/s]INFO:root:Epoch 101 - 2024-10-14 13:52:43.749548\n",
      "INFO:root:Epoch 102 - 2024-10-14 13:52:43.859881\n",
      " 68%|██████▊   | 102/150 [00:12<00:05,  9.37it/s]INFO:root:Epoch 103 - 2024-10-14 13:52:43.963542\n",
      " 69%|██████▊   | 103/150 [00:12<00:04,  9.42it/s]INFO:root:Epoch 104 - 2024-10-14 13:52:44.058269\n",
      "INFO:root:Epoch 105 - 2024-10-14 13:52:44.145575\n",
      " 70%|███████   | 105/150 [00:12<00:04, 10.00it/s]INFO:root:Epoch 106 - 2024-10-14 13:52:44.237381\n",
      "INFO:root:Epoch 107 - 2024-10-14 13:52:44.332291\n",
      " 71%|███████▏  | 107/150 [00:12<00:04, 10.27it/s]INFO:root:Epoch 108 - 2024-10-14 13:52:44.443692\n",
      "INFO:root:Epoch 109 - 2024-10-14 13:52:44.534480\n",
      " 73%|███████▎  | 109/150 [00:12<00:04, 10.15it/s]INFO:root:Epoch 110 - 2024-10-14 13:52:44.629048\n",
      "INFO:root:Epoch 111 - 2024-10-14 13:52:44.727059\n",
      " 74%|███████▍  | 111/150 [00:12<00:03, 10.22it/s]INFO:root:Epoch 112 - 2024-10-14 13:52:44.844664\n",
      "INFO:root:Epoch 113 - 2024-10-14 13:52:44.931858\n",
      " 75%|███████▌  | 113/150 [00:13<00:03, 10.07it/s]INFO:root:Epoch 114 - 2024-10-14 13:52:45.024755\n",
      "INFO:root:Epoch 115 - 2024-10-14 13:52:45.115502\n",
      " 77%|███████▋  | 115/150 [00:13<00:03, 10.30it/s]INFO:root:Epoch 116 - 2024-10-14 13:52:45.206527\n",
      "INFO:root:Epoch 117 - 2024-10-14 13:52:45.303659\n",
      " 78%|███████▊  | 117/150 [00:13<00:03, 10.39it/s]INFO:root:Epoch 118 - 2024-10-14 13:52:45.400896\n",
      "INFO:root:Epoch 119 - 2024-10-14 13:52:45.506342\n",
      " 79%|███████▉  | 119/150 [00:13<00:03, 10.24it/s]INFO:root:Epoch 120 - 2024-10-14 13:52:45.614554\n",
      "INFO:root:Epoch 121 - 2024-10-14 13:52:45.704890\n",
      " 81%|████████  | 121/150 [00:13<00:02, 10.20it/s]INFO:root:Epoch 122 - 2024-10-14 13:52:45.811123\n",
      "INFO:root:Epoch 123 - 2024-10-14 13:52:45.907838\n",
      " 82%|████████▏ | 123/150 [00:14<00:02, 10.08it/s]INFO:root:Epoch 124 - 2024-10-14 13:52:46.001417\n",
      "INFO:root:Epoch 125 - 2024-10-14 13:52:46.098652\n",
      " 83%|████████▎ | 125/150 [00:14<00:02, 10.21it/s]INFO:root:Epoch 126 - 2024-10-14 13:52:46.193603\n",
      "INFO:root:Epoch 127 - 2024-10-14 13:52:46.287506\n",
      " 85%|████████▍ | 127/150 [00:14<00:02, 10.28it/s]INFO:root:Epoch 128 - 2024-10-14 13:52:46.385720\n",
      "INFO:root:Epoch 129 - 2024-10-14 13:52:46.494449\n",
      " 86%|████████▌ | 129/150 [00:14<00:02, 10.12it/s]INFO:root:Epoch 130 - 2024-10-14 13:52:46.585961\n",
      "INFO:root:Epoch 131 - 2024-10-14 13:52:46.676714\n",
      " 87%|████████▋ | 131/150 [00:14<00:01, 10.36it/s]INFO:root:Epoch 132 - 2024-10-14 13:52:46.777913\n",
      "INFO:root:Epoch 133 - 2024-10-14 13:52:46.899004\n",
      " 89%|████████▊ | 133/150 [00:15<00:01,  9.91it/s]INFO:root:Epoch 134 - 2024-10-14 13:52:46.995200\n",
      "INFO:root:Epoch 135 - 2024-10-14 13:52:47.082228\n",
      " 90%|█████████ | 135/150 [00:15<00:01, 10.20it/s]INFO:root:Epoch 136 - 2024-10-14 13:52:47.183289\n",
      "INFO:root:Epoch 137 - 2024-10-14 13:52:47.284375\n",
      " 91%|█████████▏| 137/150 [00:15<00:01, 10.09it/s]INFO:root:Epoch 138 - 2024-10-14 13:52:47.421133\n",
      "INFO:root:Epoch 139 - 2024-10-14 13:52:47.562408\n",
      " 93%|█████████▎| 139/150 [00:15<00:01,  9.00it/s]INFO:root:Epoch 140 - 2024-10-14 13:52:47.700207\n",
      " 93%|█████████▎| 140/150 [00:15<00:01,  8.63it/s]INFO:root:Epoch 141 - 2024-10-14 13:52:47.841300\n",
      " 94%|█████████▍| 141/150 [00:16<00:01,  8.27it/s]INFO:root:Epoch 142 - 2024-10-14 13:52:47.976275\n",
      " 95%|█████████▍| 142/150 [00:16<00:00,  8.06it/s]INFO:root:Epoch 143 - 2024-10-14 13:52:48.105669\n",
      " 95%|█████████▌| 143/150 [00:16<00:00,  7.98it/s]INFO:root:Epoch 144 - 2024-10-14 13:52:48.238207\n",
      " 96%|█████████▌| 144/150 [00:16<00:00,  7.86it/s]INFO:root:Epoch 145 - 2024-10-14 13:52:48.371422\n",
      " 97%|█████████▋| 145/150 [00:16<00:00,  7.74it/s]INFO:root:Epoch 146 - 2024-10-14 13:52:48.508627\n",
      " 97%|█████████▋| 146/150 [00:16<00:00,  7.60it/s]INFO:root:Epoch 147 - 2024-10-14 13:52:48.648160\n",
      " 98%|█████████▊| 147/150 [00:16<00:00,  7.50it/s]INFO:root:Epoch 148 - 2024-10-14 13:52:48.796649\n",
      " 99%|█████████▊| 148/150 [00:16<00:00,  7.24it/s]INFO:root:Epoch 149 - 2024-10-14 13:52:48.962647\n",
      " 99%|█████████▉| 149/150 [00:17<00:00,  6.83it/s]INFO:root:Epoch 150 - 2024-10-14 13:52:49.125526\n",
      "100%|██████████| 150/150 [00:17<00:00,  8.67it/s]\n",
      "INFO:root:Synthesizer training completed\n"
     ]
    },
    {
     "name": "stdout",
     "output_type": "stream",
     "text": [
      "\n",
      "Synthesizer training completed\n",
      "\n",
      "Starting model evaluation\n"
     ]
    },
    {
     "name": "stderr",
     "output_type": "stream",
     "text": [
      "100%|██████████| 2/2 [00:00<00:00, 14.62it/s]\n",
      "INFO:root:Starting model evaluation\n",
      "INFO:root:Privacy score: 97.57\n",
      "INFO:root:                                   Metrics    Values\n",
      "0     Distance to the Closest Record (DCR)  0.215900\n",
      "1                  Exact Match Score (EMS)  0.000000\n",
      "2  Nearest Neighbour Distance Ratio (NNDR)  0.919684\n",
      "3         Attribute Inference Attack (AIA)  0.988300\n"
     ]
    },
    {
     "name": "stdout",
     "output_type": "stream",
     "text": [
      "\n",
      "Privacy score:  97.57\n",
      "                                   Metrics    Values\n",
      "0     Distance to the Closest Record (DCR)  0.215900\n",
      "1                  Exact Match Score (EMS)  0.000000\n",
      "2  Nearest Neighbour Distance Ratio (NNDR)  0.919684\n",
      "3         Attribute Inference Attack (AIA)  0.988300\n"
     ]
    },
    {
     "name": "stderr",
     "output_type": "stream",
     "text": [
      "INFO:root:Quality score: 99.14\n",
      "INFO:root:                                  Metrics    Values\n",
      "0            Mean Correlation Score (MCS)  0.003103\n",
      "1             Cramer's V MSE Score (CVMS)  0.000029\n",
      "2            MSE Correlation Score (MSCS)  0.073520\n",
      "3  Jensen-Shannon Divergence Score (JSDC)  0.007345\n"
     ]
    },
    {
     "name": "stdout",
     "output_type": "stream",
     "text": [
      "\n",
      "Quality score:  99.14\n",
      "                                  Metrics    Values\n",
      "0            Mean Correlation Score (MCS)  0.003103\n",
      "1             Cramer's V MSE Score (CVMS)  0.000029\n",
      "2            MSE Correlation Score (MSCS)  0.073520\n",
      "3  Jensen-Shannon Divergence Score (JSDC)  0.007345\n"
     ]
    },
    {
     "name": "stderr",
     "output_type": "stream",
     "text": [
      "INFO:root:Utility score: 90.2\n",
      "INFO:root:             TRTR    TRTS    TSTR    TSTS\n",
      "Metrics                                  \n",
      "F1         0.6890  0.8049  0.8230  0.6771\n",
      "Recall     0.6871  0.8006  0.8249  0.6724\n",
      "Precision  0.6910  0.8096  0.8211  0.6832\n",
      "Accuracy   0.7627  0.8452  0.8627  0.7475\n"
     ]
    },
    {
     "name": "stdout",
     "output_type": "stream",
     "text": [
      "\n",
      "Utility score:  90.2\n",
      "             TRTR    TRTS    TSTR    TSTS\n",
      "Metrics                                  \n",
      "F1         0.6890  0.8049  0.8230  0.6771\n",
      "Recall     0.6871  0.8006  0.8249  0.6724\n",
      "Precision  0.6910  0.8096  0.8211  0.6832\n",
      "Accuracy   0.7627  0.8452  0.8627  0.7475\n"
     ]
    },
    {
     "name": "stderr",
     "output_type": "stream",
     "text": [
      "INFO:root:Saving synthesizer and metadata\n"
     ]
    },
    {
     "name": "stdout",
     "output_type": "stream",
     "text": [
      "\n",
      "Model evaluation completed\n",
      "\n",
      "Saving synthesizer and metadata\n"
     ]
    },
    {
     "name": "stderr",
     "output_type": "stream",
     "text": [
      "INFO:root:All done!\n"
     ]
    },
    {
     "name": "stdout",
     "output_type": "stream",
     "text": [
      "Successfully serialized model and metadata\n",
      "\n",
      "All done!\n"
     ]
    }
   ],
   "source": [
    "from nucleus import synthesizer\n",
    "\n",
    "float_columns = [\"MonthlyCharges\",\"TotalCharges\"]\n",
    "date_columns=[]\n",
    "integer_columns=['MonthAge']\n",
    "categorical_columns=['Gender', 'MaritalStatus', 'FixedLine', 'InternetService','OnlineSecurity', 'OnlineBackup', \n",
    "                     'DeviceProtection', 'TechSupport','StreamingTV', 'StreamingMovies', 'Contract', 'PaperlessBilling', \n",
    "                     'PaymentMethod', 'MonthlyCharges', 'Churn']\n",
    "\n",
    "token = '1234' # Token provided by Dedomena at Nucleus Edge section. It is only available under subscription or contracted project.\n",
    "\n",
    "synthesizer(data_dir='data/telco-customer-churn.csv', # https://www.kaggle.com/datasets/blastchar/telco-customer-churn\n",
    "            token=token,\n",
    "            algorithm='generic',\n",
    "            batch_size=128,\n",
    "            epochs=150,\n",
    "            synthesizer_name=\"Dedomena AI Generic Algorithm Example\",\n",
    "            synthesizer_description=\"Synthesizer trained on Kaggle's telecom churn dataset.\",\n",
    "            categorical_columns=categorical_columns,\n",
    "            date_columns=date_columns,\n",
    "            integer_columns=integer_columns,\n",
    "            boolean_columns=[],\n",
    "            float_columns=float_columns,\n",
    "            output_dir='my_synthesizers/generic_example',\n",
    "            transform_descriptions=False,\n",
    "            cuda=False,\n",
    "            constraints = [],\n",
    "            target='Churn',\n",
    "            sensitive={},\n",
    "            amplify=\"quality\"\n",
    "           )\n",
    "\n"
   ]
  },
  {
   "cell_type": "markdown",
   "id": "23485003",
   "metadata": {
    "id": "23485003"
   },
   "source": [
    "## Transactional"
   ]
  },
  {
   "cell_type": "code",
   "execution_count": null,
   "id": "ca88a661",
   "metadata": {
    "colab": {
     "base_uri": "https://localhost:8080/"
    },
    "id": "kBg0QyrC3QQf",
    "outputId": "95c476fd-4e53-4b4d-8f22-f2d9842d63a0"
   },
   "outputs": [],
   "source": [
    "from nucleus import synthesizer\n",
    "\n",
    "float_columns = ['amount', 'balance']\n",
    "date_columns=['txn_date']\n",
    "integer_columns=[]\n",
    "categorical_columns=['bank_id', 'descriptions', 'mcc_code', 'cat_id', 'account_id']\n",
    "\n",
    "token = '1234' # Token provided by Dedomena at Nucleus Edge section. It is only available under subscription or contracted project.\n",
    "\n",
    "synthesizer(data_dir='data/banking_data.csv',\n",
    "            token=token,\n",
    "            algorithm='transactional',\n",
    "            batch_size=512,\n",
    "            epochs=150,\n",
    "            synthesizer_name='dedomena',\n",
    "            synthesizer_description='Generate transactional banking data',\n",
    "            categorical_columns=categorical_columns,\n",
    "            date_columns=date_columns,\n",
    "            integer_columns=integer_columns,\n",
    "            boolean_columns=[],\n",
    "            float_columns=float_columns,\n",
    "            output_dir='output',\n",
    "            transform_descriptions='level2',\n",
    "            amplify='quality',\n",
    "            cuda=True,\n",
    "            constraints = ['descriptions<->mcc_code<->cat_id', 'account_id<->bank_id'],\n",
    "            target='cat_id',\n",
    "            sensitive={'cat_id':'name'},\n",
    "            columns_mapping={'concept':'descriptions', 'user_id':'account_id'}\n",
    "           )"
   ]
  },
  {
   "cell_type": "markdown",
   "id": "07227d61",
   "metadata": {
    "id": "07227d61"
   },
   "source": [
    "## Timeseries"
   ]
  },
  {
   "cell_type": "code",
   "execution_count": null,
   "id": "81183424",
   "metadata": {
    "colab": {
     "base_uri": "https://localhost:8080/"
    },
    "id": "e3ef08fc",
    "outputId": "4c44bd86-b575-4ac3-b5e2-c9dd2c06e91f"
   },
   "outputs": [],
   "source": [
    "from nucleus import synthesizer\n",
    "\n",
    "float_columns=['amount']\n",
    "date_columns=['txn_date']\n",
    "categorical_columns=['cat_id', 'user_id']\n",
    "\n",
    "token = '1234' # Token provided by Dedomena at Nucleus Edge section. It is only available under subscription or contracted project.\n",
    "\n",
    "synthesizer(data_dir='train_series.parquet',\n",
    "            token=token,\n",
    "            algorithm='timeseries',\n",
    "            batch_size=128,\n",
    "            epochs=100,\n",
    "            categorical_columns=categorical_columns,\n",
    "            date_columns=date_columns,\n",
    "            integer_columns=[],\n",
    "            boolean_columns=[],\n",
    "            float_columns=float_columns,\n",
    "            cuda=False,\n",
    "            time_step='MS',\n",
    "            output_dir='my_synthesizers/timeseries_example',\n",
    "            )"
   ]
  },
  {
   "cell_type": "markdown",
   "id": "dGA-64y1fDrk",
   "metadata": {
    "id": "dGA-64y1fDrk"
   },
   "source": [
    "## Relational"
   ]
  },
  {
   "cell_type": "code",
   "execution_count": null,
   "id": "9bbb36d7",
   "metadata": {
    "colab": {
     "base_uri": "https://localhost:8080/"
    },
    "id": "gNgSBASzfCvO",
    "outputId": "487c157e-36c8-4d0b-ea42-333b9efbff1e"
   },
   "outputs": [],
   "source": [
    "from nucleus import synthesizer\n",
    "\n",
    "datasets_config = {\n",
    "                    'loan': {\n",
    "                               'data_dir': 'loan.csv',\n",
    "                               'data_format':'CSV', # Optional\n",
    "                               'categorical_columns': ['loan_id', 'account_id', 'status'],\n",
    "                               'integer_columns': ['amount', 'duration'],\n",
    "                               'date_columns': {'date':'%y%m%d'},\n",
    "                               'float_columns': ['payments'],\n",
    "                               'foreign_key': {'account_id':'account'},\n",
    "                               'primary_key':'loan_id',\n",
    "                             },\n",
    "                    'order': {\n",
    "                               'data_dir': 'order.csv',\n",
    "                               'categorical_columns': ['order_id', 'account_id', 'bank_to', 'account_to', 'k_symbol'],\n",
    "                               'float_columns': ['amount'],\n",
    "                               'foreign_key': {'account_id':'account'},\n",
    "                               'primary_key':'order_id',\n",
    "                              },\n",
    "                    'transactions': {\n",
    "                                       'algorithm': 'transactional',\n",
    "                                       'data_dir': 'trans_desc_1k.csv',\n",
    "                                       'categorical_columns': ['type', 'operation', 'k_symbol', 'bank', 'account', 'title'],\n",
    "                                       'date_columns': {'date':'%y%m%d'},\n",
    "                                       'float_columns': ['amount', 'balance'],\n",
    "                                       'foreign_key': {'account_id':'account'},\n",
    "                                       'primary_key':'trans_id',\n",
    "                                       'constraints':[\n",
    "                                                      'type<->operation',\n",
    "                                                      'bank<->account'\n",
    "                                                     ],\n",
    "                                        'columns_mapping':{'user_id': 'account_id',\n",
    "                                                      'txn_date':'date',\n",
    "                                                      'concept':'title'},\n",
    "                                        'transform_descriptions':'level2'\n",
    "\n",
    "                                     },\n",
    "                    'account': {\n",
    "                                   'data_dir': 'account.csv',\n",
    "                                   'categorical_columns': ['account_id', 'district_id', 'frequency'],\n",
    "                                   'date_columns': {'date':'%y%m%d'},\n",
    "                                   'foreign_key': {'district_id':'demograph'},\n",
    "                                   'primary_key':'account_id',\n",
    "                                 },\n",
    "                    'cards': {\n",
    "                                   'data_dir': 'card.csv',\n",
    "                                   'categorical_columns': ['card_id', 'disp_id', 'type'],\n",
    "                                   'date_columns': {'issued':'%y%m%d'},\n",
    "                                   'foreign_key': {'disp_id':'disposition'},\n",
    "                                   'primary_key':'card_id',\n",
    "                              },\n",
    "                    'disposition': {\n",
    "                                   'data_dir': 'disp.csv',\n",
    "                                   'categorical_columns': ['disp_id', 'client_id', 'account_id', 'type'],\n",
    "                                   'foreign_key': {'client_id':'clients',\n",
    "                                                   'account_id':'account'},\n",
    "                                   'primary_key':'disp_id',\n",
    "                                   'constraints':[\n",
    "                                                  'account_id<->type',\n",
    "                                                  ],\n",
    "                                   },\n",
    "                    'demograph': {\n",
    "                                   'data_dir': 'district.csv',\n",
    "                                   'categorical_columns': ['district_id', 'A2', 'A3', 'A4', 'A5', 'A6', 'A7', 'A8', 'A9', 'A11',\n",
    "                                                           'A14','A15','A16'],\n",
    "                                   'float_columns': ['A10', 'A12', 'A13'],\n",
    "                                   'primary_key':'district_id',\n",
    "                                 },\n",
    "                    'clients': {\n",
    "                                   'data_dir': 'client.csv',\n",
    "                                   'categorical_columns': ['client_id', 'birth_number', 'district_id'],\n",
    "                                   'foreign_key': {'district_id':'demograph'},\n",
    "                                   'primary_key':'client_id',\n",
    "                                },\n",
    "                }\n",
    "\n",
    "token = '1234' # Token provided by Dedomena at Nucleus Edge section. It is only available under subscription or contracted project.\n",
    "\n",
    "synthesizer(token=token,\n",
    "            algorithm='relational',\n",
    "            batch_size=128,\n",
    "            epochs=150,\n",
    "            datasets_config=datasets_config,\n",
    "            output_dir='loan_data/synthesizers')"
   ]
  },
  {
   "cell_type": "markdown",
   "id": "08c16164",
   "metadata": {},
   "source": [
    "When the synthesization is completed and the synthesizer created, users need to upload the encrypted file into Dedomena´s platform through the SYNTHESIZERS section. Through the button ADD SYNTHESIZER users can upload the encrypted file to register the synthesizer with the associated information, metrics, report and generate synthetic data. \n",
    "\n",
    "Dedomena AI provides a REST API for consuming synthetic data from user synthesizers, enabling a variety of integrations and powering real-time use cases. It allows to generate 5000 synthetic rows per call. The API only works with synthesizers trained with the latest version of the available Nucleus Edge.\n",
    "\n",
    "Work with confidence, data quality and privacy is assured."
   ]
  }
 ],
 "metadata": {
  "colab": {
   "provenance": []
  },
  "kernelspec": {
   "display_name": "Python 3 (ipykernel)",
   "language": "python",
   "name": "python3"
  },
  "language_info": {
   "codemirror_mode": {
    "name": "ipython",
    "version": 3
   },
   "file_extension": ".py",
   "mimetype": "text/x-python",
   "name": "python",
   "nbconvert_exporter": "python",
   "pygments_lexer": "ipython3",
   "version": "3.9.13"
  }
 },
 "nbformat": 4,
 "nbformat_minor": 5
}
