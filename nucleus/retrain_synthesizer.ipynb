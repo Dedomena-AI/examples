{
 "cells": [
  {
   "cell_type": "markdown",
   "id": "68733b33",
   "metadata": {},
   "source": [
    "# Re-train a high-quality synthetic data generator (synthesizer) created with Dedomena AI"
   ]
  },
  {
   "cell_type": "markdown",
   "id": "7eea8c52",
   "metadata": {
    "id": "7eea8c52"
   },
   "source": [
    "### Install Nucleus Edge library"
   ]
  },
  {
   "cell_type": "markdown",
   "id": "13ea497c",
   "metadata": {},
   "source": [
    "Nucleus allows to train synthesizers that are later on used to generate unlimited production-like copies of synthetic data. These synthesizers can be created in Dedomena´s platform (Cloud) or in the data source environment or other on-premise and private cloud enviroments, through the Nucleus Edge component."
   ]
  },
  {
   "cell_type": "code",
   "execution_count": null,
   "id": "dc6abb89",
   "metadata": {
    "colab": {
     "base_uri": "https://localhost:8080/",
     "height": 1000
    },
    "id": "682f5522",
    "outputId": "373bb0f2-d2ae-4f09-a5e0-42d8667d2f80"
   },
   "outputs": [],
   "source": [
    "!pip install /content/nucleus-edge-3.2.1-python-310-x86_64-linux-gnu.tar.gz"
   ]
  },
  {
   "cell_type": "markdown",
   "id": "ac575227",
   "metadata": {
    "id": "ac575227"
   },
   "source": [
    "## Retrain a synthesizer"
   ]
  },
  {
   "cell_type": "markdown",
   "id": "8824036b",
   "metadata": {},
   "source": [
    "Nucleus Edge provides the ability to fine-tune pre-trained synthesizers. The retraining dataset can be different from the dataset used in the first training, however it must keep the same columns (with the same name) used in the initial training dataset.\n",
    "\n",
    "The output will be a protected .zip with the retrained model.\n"
   ]
  },
  {
   "cell_type": "code",
   "execution_count": null,
   "id": "e0b21b4a",
   "metadata": {
    "id": "e0b21b4a"
   },
   "outputs": [],
   "source": [
    "from nucleus import retrain_synthesizer\n",
    "\n",
    "token = '1234' # Token provided by Dedomena at Nucleus Edge section. It is only available under subscription or contracted project.\n",
    "\n",
    "\n",
    "retrain_synthesizer(data_dir='data/new_data.csv',\n",
    "                    token=token,\n",
    "                    model_dir='my_synthesizers/generic_example/output.zip',\n",
    "                    epochs=5,\n",
    "                    output_dir='generic_retrained')"
   ]
  }
 ],
 "metadata": {
  "colab": {
   "provenance": []
  },
  "kernelspec": {
   "display_name": "Python 3 (ipykernel)",
   "language": "python",
   "name": "python3"
  },
  "language_info": {
   "codemirror_mode": {
    "name": "ipython",
    "version": 3
   },
   "file_extension": ".py",
   "mimetype": "text/x-python",
   "name": "python",
   "nbconvert_exporter": "python",
   "pygments_lexer": "ipython3",
   "version": "3.9.13"
  }
 },
 "nbformat": 4,
 "nbformat_minor": 5
}
